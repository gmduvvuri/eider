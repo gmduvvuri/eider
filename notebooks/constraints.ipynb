{
 "cells": [
  {
   "cell_type": "code",
   "execution_count": null,
   "id": "0449d298",
   "metadata": {},
   "outputs": [],
   "source": [
    "import numpy as np\n",
    "from matplotlib import pyplot as plt\n",
    "import seaborn as sns\n",
    "from eider import constraints"
   ]
  },
  {
   "cell_type": "code",
   "execution_count": null,
   "id": "1ee4b5ba",
   "metadata": {},
   "outputs": [],
   "source": [
    "demo_components = Table.read(\"demo_components.ecsv\")\n",
    "print(demo_components)"
   ]
  },
  {
   "cell_type": "markdown",
   "id": "d2ca4462",
   "metadata": {},
   "source": [
    "Each row in the table is one observation of an emission feature, referred to as one component. A component is described by the following fields:\n",
    "  - \"Source\" = A string that is either an ion like \"N V\" or \"spec\" for a measurement of the flux in a spectral bin which may include contributions from any ion or continuum emission mechanism with CHIANTI atomic data calculations.\n",
    "  - \"Constraint_ID\" = A string identifying the name of the observational constraint whose contribution function will be used for fitting\n",
    "  - \"Flux\" = The measured flux, in units of erg cm$^{-2}$ s$^{-1}$\n",
    "  - \"Error\" = The uncertainty of the flux measurement\n",
    "  - \"Wavelength_Low\" = The lower wavelength limit for CHIANTI to search for emission lines. This is the vacuum wavelength.\n",
    "  - 'Wavelength_Upp\" = The upper wavelength limits for CHIANTI to search for emission lines. This is the vacuum wavelength."
   ]
  },
  {
   "cell_type": "markdown",
   "id": "a78080d7",
   "metadata": {},
   "source": [
    "The \"Constraint_ID\" field allows unresolved blends to still be used as observational constraints. For example, look at rows 4 and 5 of the \"demo_components\" table."
   ]
  },
  {
   "cell_type": "code",
   "execution_count": null,
   "id": "67a67a06",
   "metadata": {},
   "outputs": [],
   "source": [
    "print(demo_components[4:6])"
   ]
  },
  {
   "cell_type": "markdown",
   "id": "fc0a4c36",
   "metadata": {},
   "source": [
    "There is an S IV] and an O IV] emission line emitted at 1404.77 and 1404.811 $\\unicode{x212B}$ respectively. Depending on the wavelength resolution of the observation, it may not be possible to measure their fluxes separately, but still be possible to measure the total integrated flux of both lines. By entering the flux of the \"S IV]\" line as $0 \\pm 0$ and the flux of the \"O IV]\" line as $1.1 \\pm 0.1 \\times 10^{-15}$ erg cm$^{-2}$ s$^{-1}$ (the latter is the total flux measurement), we can query CHIANTI for the contribution functions associated with both these lines and associate their sum with the observed flux. "
   ]
  },
  {
   "cell_type": "code",
   "execution_count": null,
   "id": "850772c5",
   "metadata": {},
   "outputs": [],
   "source": [
    "obs_tb = constraints.Constraints(demo_components)"
   ]
  },
  {
   "cell_type": "code",
   "execution_count": null,
   "id": "dc828363",
   "metadata": {},
   "outputs": [],
   "source": [
    "obs_tb.populate_components()\n",
    "obs_tb.visualize_1D()"
   ]
  },
  {
   "cell_type": "markdown",
   "id": "48a6764f",
   "metadata": {},
   "source": [
    "Each plotted curve is associated with their labelled \"Constraint_ID\". Note how those constraints whose \"Source\" was \"spec\" tend to have broader contribution functions, in some cases clearly multipeaked. This is because their contribution functions are summed over any ion that may be emitting in that spectral bin. The double-peak for \"S_IV]\\_+\\_O\\_IV]\" is less obvious because both ions form at similar temperatures."
   ]
  },
  {
   "cell_type": "code",
   "execution_count": null,
   "id": "c0cb193e",
   "metadata": {},
   "outputs": [],
   "source": [
    "obs_tb.visualize_2D()"
   ]
  },
  {
   "cell_type": "markdown",
   "id": "b43dac5a",
   "metadata": {},
   "source": [
    "This plot color-codes the pixels by the intensity of the contribution function, with the $x$-axis representing temperature on the same scale as the 1D plot above, and the $y$-axis representing wavelength. The contribution functions associated with emission lines are restricted to narrow rows and don't extend very far in temperature because they are narrowly peaked functions of temperature (as in the 1D plot), unlike the broader \"spec\" associated contribution functions. In general, X-ray wavelengths are associated with hotter ($> 10^6$ K) coronal material and FUV wavelengths are associated with cooler ($10^5$ K) transition region and chromospheric material."
   ]
  }
 ],
 "metadata": {
  "kernelspec": {
   "display_name": "Python 3 (ipykernel)",
   "language": "python",
   "name": "python3"
  },
  "language_info": {
   "codemirror_mode": {
    "name": "ipython",
    "version": 3
   },
   "file_extension": ".py",
   "mimetype": "text/x-python",
   "name": "python",
   "nbconvert_exporter": "python",
   "pygments_lexer": "ipython3",
   "version": "3.11.4"
  }
 },
 "nbformat": 4,
 "nbformat_minor": 5
}
